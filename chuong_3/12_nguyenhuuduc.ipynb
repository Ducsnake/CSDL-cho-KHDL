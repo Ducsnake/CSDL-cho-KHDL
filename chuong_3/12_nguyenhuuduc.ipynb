{
 "cells": [
  {
   "cell_type": "markdown",
   "id": "143a3097",
   "metadata": {},
   "source": [
    "# Câu 1:"
   ]
  },
  {
   "cell_type": "code",
   "execution_count": 8,
   "id": "c0c20ac1",
   "metadata": {},
   "outputs": [
    {
     "name": "stdout",
     "output_type": "stream",
     "text": [
      "Hệ số tương quan Pearson giữa A và B là: 1.0\n"
     ]
    }
   ],
   "source": [
    "import sqlite3\n",
    "\n",
    "# Kết nối đến cơ sở dữ liệu SQLite\n",
    "conn = sqlite3.connect('demo.db')\n",
    "cursor = conn.cursor()\n",
    "\n",
    "# Tạo bảng Bang1 và thêm dữ liệu mẫu\n",
    "cursor.execute('''\n",
    "    CREATE TABLE IF NOT EXISTS Bang1 (\n",
    "        A REAL,\n",
    "        B REAL\n",
    "    );\n",
    "''')\n",
    "cursor.executemany('''\n",
    "    INSERT INTO Bang1 (A, B)\n",
    "    VALUES (?, ?);\n",
    "''', [\n",
    "    (1, 2),\n",
    "    (2, 3),\n",
    "    (3, 4),\n",
    "    (4, 5),\n",
    "    (5, 6)\n",
    "])\n",
    "conn.commit()\n",
    "\n",
    "# Tính hệ số tương quan Pearson giữa A và B\n",
    "cursor.execute('''\n",
    "    SELECT \n",
    "        (COUNT(*) * SUM(A * B) - SUM(A) * SUM(B)) / \n",
    "        SQRT(\n",
    "            (COUNT(*) * SUM(A * A) - SUM(A) * SUM(A)) * \n",
    "            (COUNT(*) * SUM(B * B) - SUM(B) * SUM(B))\n",
    "        ) AS correlation_coefficient\n",
    "    FROM Bang1;\n",
    "''')\n",
    "correlation_coefficient = cursor.fetchone()[0]\n",
    "\n",
    "# In kết quả\n",
    "print(f'Hệ số tương quan Pearson giữa A và B là: {correlation_coefficient}')\n",
    "\n",
    "# Đóng kết nối\n",
    "conn.close()"
   ]
  },
  {
   "cell_type": "markdown",
   "id": "4f6b565c",
   "metadata": {},
   "source": [
    "**Hệ số tương quan Pearson giữa A và B là 1.0, điều này cho thấy mối quan hệ tuyến tính hoàn hảo và tích cực giữa hai biến**"
   ]
  },
  {
   "cell_type": "markdown",
   "id": "a38aa9b3",
   "metadata": {},
   "source": [
    "# Câu 2:"
   ]
  },
  {
   "cell_type": "code",
   "execution_count": 9,
   "id": "c4fa4c29",
   "metadata": {},
   "outputs": [],
   "source": [
    "# import thư viện\n",
    "import sqlite3\n",
    "import numpy as np\n",
    "import pandas as pd\n",
    "import scipy.stats as stats"
   ]
  },
  {
   "cell_type": "code",
   "execution_count": 10,
   "id": "141069b1",
   "metadata": {},
   "outputs": [
    {
     "name": "stdout",
     "output_type": "stream",
     "text": [
      "Bảng dữ liệu:\n",
      " model    A    B    C\n",
      "day                 \n",
      "Day 1  8.0  9.0  7.0\n",
      "Day 2  7.5  8.5  7.0\n",
      "Day 3  6.0  7.0  8.0\n",
      "Day 4  7.0  6.0  5.0\n",
      "\n",
      "Thống kê Chi-Square: 0.826439691310499\n",
      "Giá trị P: 0.9913459315666546\n",
      "Bậc tự do: 6\n",
      "Tần suất kỳ vọng:\n",
      " [[7.95 8.51 7.53]\n",
      " [7.62 8.16 7.22]\n",
      " [6.96 7.45 6.59]\n",
      " [5.97 6.38 5.65]]\n"
     ]
    }
   ],
   "source": [
    "# Kết nối đến cơ sở dữ liệu SQLite\n",
    "conn = sqlite3.connect('demo.db')\n",
    "cursor = conn.cursor()\n",
    "\n",
    "# Tạo bảng và thêm dữ liệu\n",
    "cursor.execute('''\n",
    "    CREATE TABLE IF NOT EXISTS car_scores (\n",
    "        day TEXT,\n",
    "        model TEXT,\n",
    "        score REAL\n",
    "    )\n",
    "''')\n",
    "\n",
    "data = [\n",
    "    ('Day 1', 'A', 8), ('Day 1', 'B', 9), ('Day 1', 'C', 7),\n",
    "    ('Day 2', 'A', 7.5), ('Day 2', 'B', 8.5), ('Day 2', 'C', 7),\n",
    "    ('Day 3', 'A', 6), ('Day 3', 'B', 7), ('Day 3', 'C', 8),\n",
    "    ('Day 4', 'A', 7), ('Day 4', 'B', 6), ('Day 4', 'C', 5)\n",
    "]\n",
    "\n",
    "cursor.executemany('INSERT INTO car_scores (day, model, score) VALUES (?, ?, ?)', data)\n",
    "conn.commit()\n",
    "\n",
    "# Đọc dữ liệu từ SQLite vào DataFrame\n",
    "df = pd.read_sql_query('SELECT * FROM car_scores', conn)\n",
    "\n",
    "# Kiểm tra và loại bỏ các hàng trùng lặp\n",
    "df = df.drop_duplicates(subset=['day', 'model'])\n",
    "\n",
    "# Chuyển đổi dữ liệu thành bảng pivot\n",
    "pivot_table = df.pivot(index='day', columns='model', values='score')\n",
    "\n",
    "# Thực hiện kiểm tra Chi-Square\n",
    "chi2_stat, p_value, dof, expected = stats.chi2_contingency(pivot_table)\n",
    "\n",
    "# Làm tròn bảng tần suất kỳ vọng\n",
    "expected_rounded = np.round(expected, 2)\n",
    "\n",
    "# In kết quả\n",
    "print(\"Bảng dữ liệu:\\n\", pivot_table)\n",
    "print(\"\\nThống kê Chi-Square:\", chi2_stat)\n",
    "print(\"Giá trị P:\", p_value)\n",
    "print(\"Bậc tự do:\", dof)\n",
    "print(\"Tần suất kỳ vọng:\\n\", expected_rounded)"
   ]
  },
  {
   "cell_type": "markdown",
   "id": "9d9b55e2",
   "metadata": {},
   "source": [
    "**Nhận xét:**\n",
    "- Thống kê Chi-Square **(chi2_stat)**: Giá trị 0.8264 là rất nhỏ, cho thấy sự khác biệt giữa các giá trị quan sát và giá trị kỳ vọng là không đáng kể.\n",
    "\n",
    "- Giá trị P **(p_value)**: Giá trị P là 0.9913, lớn hơn mức ý nghĩa thông thường (0.05). Điều này có nghĩa là không có đủ bằng chứng để bác bỏ giả thuyết không (H₀).\n",
    "\n",
    "- Bậc tự do **(dof)**: Bậc tự do là 6, được tính dựa trên số hàng và cột của bảng dữ liệu.\n",
    "\n",
    "- Tần suất kỳ vọng **(expected)**: Các giá trị kỳ vọng gần với giá trị quan sát, điều này củng cố thêm rằng không có sự khác biệt đáng kể.\n",
    "\n"
   ]
  },
  {
   "cell_type": "markdown",
   "id": "a8abd548",
   "metadata": {},
   "source": [
    "# Câu 3:"
   ]
  },
  {
   "cell_type": "code",
   "execution_count": 12,
   "id": "873acb0c",
   "metadata": {},
   "outputs": [
    {
     "name": "stdout",
     "output_type": "stream",
     "text": [
      "(1, 830, '08:30 AM')\n",
      "(2, 1445, '02:45 PM')\n",
      "(3, 1230, '00:30 PM')\n",
      "(4, 700, '07:00 AM')\n",
      "(5, 2200, '10:00 PM')\n"
     ]
    }
   ],
   "source": [
    "cursor.execute('CREATE TABLE flights (id INTEGER PRIMARY KEY, departure_time INTEGER)')\n",
    "data = [(1, 830), (2, 1445), (3, 1230), (4, 700), (5, 2200)]\n",
    "cursor.executemany('INSERT INTO flights (id, departure_time) VALUES (?, ?)', data)\n",
    "conn.commit()\n",
    "cursor.execute('''\n",
    "SELECT id, departure_time,\n",
    "       printf('%02d:%02d %s', \n",
    "              departure_time / 100 % 12, \n",
    "              departure_time % 100, \n",
    "              CASE WHEN departure_time / 100 >= 12 THEN 'PM' ELSE 'AM' END\n",
    "       ) AS formatted_time\n",
    "FROM flights\n",
    "''')\n",
    "for row in cursor.fetchall():\n",
    "    print(row)"
   ]
  },
  {
   "cell_type": "markdown",
   "id": "d628399e",
   "metadata": {},
   "source": [
    "# Câu 4:"
   ]
  },
  {
   "cell_type": "code",
   "execution_count": 16,
   "id": "1b29b954",
   "metadata": {},
   "outputs": [
    {
     "name": "stdout",
     "output_type": "stream",
     "text": [
      "Trung vị (Median): 3.5\n",
      "MAD: 1.5\n",
      "Threshold: 2.25\n",
      "Các giá trị ngoại lệ: [1.0, 100.0]\n"
     ]
    }
   ],
   "source": [
    "import sqlite3\n",
    "import numpy as np\n",
    "\n",
    "# Kết nối đến cơ sở dữ liệu SQLite\n",
    "conn = sqlite3.connect('demo.db')\n",
    "cursor = conn.cursor()\n",
    "\n",
    "# Tạo bảng và thêm dữ liệu mẫu\n",
    "cursor.execute('''\n",
    "    CREATE TABLE IF NOT EXISTS data_table (\n",
    "        id INTEGER PRIMARY KEY,\n",
    "        value REAL\n",
    "    )\n",
    "''')\n",
    "data = [(1,), (2,), (3,), (4,), (5,), (100,)]  # Dữ liệu mẫu, bao gồm một giá trị ngoại lệ\n",
    "cursor.executemany('INSERT INTO data_table (value) VALUES (?)', data)\n",
    "conn.commit()\n",
    "\n",
    "# Lấy dữ liệu từ bảng\n",
    "cursor.execute('SELECT value FROM data_table')\n",
    "values = [row[0] for row in cursor.fetchall()]\n",
    "\n",
    "# Tính trung vị (median)\n",
    "median = np.median(values)\n",
    "\n",
    "# Tính độ lệch tuyệt đối (absolute deviation)\n",
    "absolute_deviation = [abs(x - median) for x in values]\n",
    "\n",
    "# Tính MAD (Median Absolute Deviation)\n",
    "mad = np.median(absolute_deviation)\n",
    "\n",
    "# Tìm các giá trị ngoại lệ (lớn hơn 1.5 lần MAD)\n",
    "threshold = 1.5 * mad\n",
    "outliers = list(set([x for x in values if abs(x - median) > threshold]))\n",
    "\n",
    "# In kết quả\n",
    "print(f\"Trung vị (Median): {median}\")\n",
    "print(f\"MAD: {mad}\")\n",
    "print(f\"Threshold: {threshold}\")\n",
    "print(f\"Các giá trị ngoại lệ: {outliers}\")\n",
    "\n",
    "# Đóng kết nối\n",
    "conn.close()"
   ]
  }
 ],
 "metadata": {
  "kernelspec": {
   "display_name": "Python 3",
   "language": "python",
   "name": "python3"
  },
  "language_info": {
   "codemirror_mode": {
    "name": "ipython",
    "version": 3
   },
   "file_extension": ".py",
   "mimetype": "text/x-python",
   "name": "python",
   "nbconvert_exporter": "python",
   "pygments_lexer": "ipython3",
   "version": "3.13.2"
  }
 },
 "nbformat": 4,
 "nbformat_minor": 5
}
